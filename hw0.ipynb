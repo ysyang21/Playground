{
 "cells": [
  {
   "cell_type": "markdown",
   "metadata": {},
   "source": [
    "# 1 Probability and Statistics"
   ]
  },
  {
   "cell_type": "code",
   "execution_count": null,
   "metadata": {
    "collapsed": true
   },
   "outputs": [],
   "source": []
  },
  {
   "cell_type": "markdown",
   "metadata": {},
   "source": [
    "# 2 Linear Algebra"
   ]
  },
  {
   "cell_type": "markdown",
   "metadata": {},
   "source": [
    "(1) (rank)  \n",
    "$\\quad$ What is the rank of $\\begin{pmatrix} 1 & 2 & 1 \\\\ 1 & 0 & 3 \\\\ 1 & 1 & 2 \\end{pmatrix}$?"
   ]
  },
  {
   "cell_type": "markdown",
   "metadata": {},
   "source": [
    "(2) (inverse)  \n",
    "$\\quad$ What is the inverse of $\\begin{pmatrix} 0 & 2 & 4 \\\\ 2 & 4 & 2 \\\\ 3 & 3 & 1 \\end{pmatrix}$?"
   ]
  },
  {
   "cell_type": "markdown",
   "metadata": {},
   "source": [
    "(3)(eigenvalues/eigenvectors)  \n",
    "$\\quad$ What are the eigenvalues and eigenvectors of $\\begin{pmatrix} 3 & 1 & 1 \\\\ 2 & 4 & 2 \\\\ -1 & -1 & 1 \\end{pmatrix}$?"
   ]
  },
  {
   "cell_type": "markdown",
   "metadata": {},
   "source": [
    "(4)(singular value decomposition)  \n",
    "$\\quad$ (a) For a real matrix $M$, let $M = U\\Sigma V^{T}$ be its singular value decomposition. Define $M^{\\dagger} = U\\Sigma^{\\dagger} V^{T}$ where $\\Sigma^{\\dagger}[i][j]=\\frac{1}{\\Sigma[i][j]}$ when $\\Sigma[i][j]$ is nonzero, and 0 otherwise. Prove that $MM^{\\dagger}M = M$.  \n",
    "$\\quad$ (b) If $M$ is invertible, prove that $M^{\\dagger}=M^{-1}$."
   ]
  },
  {
   "cell_type": "markdown",
   "metadata": {},
   "source": [
    "# 3 Calculus"
   ]
  },
  {
   "cell_type": "code",
   "execution_count": null,
   "metadata": {
    "collapsed": true
   },
   "outputs": [],
   "source": []
  }
 ],
 "metadata": {
  "kernelspec": {
   "display_name": "Python 3",
   "language": "python",
   "name": "python3"
  },
  "language_info": {
   "codemirror_mode": {
    "name": "ipython",
    "version": 3
   },
   "file_extension": ".py",
   "mimetype": "text/x-python",
   "name": "python",
   "nbconvert_exporter": "python",
   "pygments_lexer": "ipython3",
   "version": "3.6.1"
  }
 },
 "nbformat": 4,
 "nbformat_minor": 2
}
