{
 "cells": [
  {
   "cell_type": "markdown",
   "metadata": {},
   "source": [
    "# Training and Testing"
   ]
  },
  {
   "cell_type": "markdown",
   "metadata": {},
   "source": [
    "One Way to use the inequality\n",
    "\n",
    "$$P\\left[ \\bigl| E_{in}(g) -  E_{out}(g)\\bigr| > {\\epsilon} \\right] \\le \\underbrace{2 \\cdot M \\cdot \\exp\\left(-2 {\\epsilon}^2 {N}\\right)}_{\\delta}$$\n",
    "\n",
    "is to pick a tolerable difference $\\epsilon$ as well as a tolerable BAD probability $\\delta$, and then gather data with size $(N)$ large enough to achieve those tolerance criteria. Let $\\epsilon=0.1$, $\\delta=0.05$, and $M=100$. What is the data size needed."
   ]
  },
  {
   "cell_type": "code",
   "execution_count": 1,
   "metadata": {},
   "outputs": [
    {
     "name": "stdout",
     "output_type": "stream",
     "text": [
      "414.702482005\n"
     ]
    }
   ],
   "source": [
    "import numpy as np\n",
    "\n",
    "epsilon=0.1\n",
    "delta=0.05\n",
    "M=100\n",
    "\n",
    "N = np.log(delta/(2*M)) / (-2*epsilon*epsilon)\n",
    "\n",
    "print (str(N))"
   ]
  },
  {
   "cell_type": "code",
   "execution_count": null,
   "metadata": {
    "collapsed": true
   },
   "outputs": [],
   "source": []
  }
 ],
 "metadata": {
  "kernelspec": {
   "display_name": "Python 3",
   "language": "python",
   "name": "python3"
  },
  "language_info": {
   "codemirror_mode": {
    "name": "ipython",
    "version": 3
   },
   "file_extension": ".py",
   "mimetype": "text/x-python",
   "name": "python",
   "nbconvert_exporter": "python",
   "pygments_lexer": "ipython3",
   "version": "3.6.1"
  }
 },
 "nbformat": 4,
 "nbformat_minor": 2
}
