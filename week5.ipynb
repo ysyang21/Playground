{
 "cells": [
  {
   "cell_type": "markdown",
   "metadata": {},
   "source": [
    "# 15. PLA"
   ]
  },
  {
   "cell_type": "markdown",
   "metadata": {},
   "source": [
    "For Questions 15-20, you will play with PLA and pocket algorithm. First, we use an artificial data set to study PLA. The data set is in\n",
    "\n",
    "https://www.csie.ntu.edu.tw/~htlin/mooc/datasets/mlfound_math/hw1_15_train.dat\n",
    "\n",
    "Each line of the data set contains one $(x_n, y_n)$ with $x_n ∈ R^4$. The first 4 numbers of the line contains the components of $x_n$ orderly, the last number is $y_n$.\n",
    "\n",
    "Please initialize your algorithm with $w=0$ and take sign(0) as −1.\n",
    "\n",
    "Implement a version of PLA by visiting examples in the naive cycle using the order of examples in the data set. Run the algorithm on the data set. What is the number of updates before the algorithm halts?"
   ]
  },
  {
   "cell_type": "code",
   "execution_count": 24,
   "metadata": {},
   "outputs": [
    {
     "name": "stdout",
     "output_type": "stream",
     "text": [
      "Halted with 46 steps, weight=[-3.         3.0841436 -1.583081   2.391305   4.5287635]\n"
     ]
    }
   ],
   "source": [
    "import numpy as np\n",
    "\n",
    "train = np.loadtxt('hw1_15_train.dat')\n",
    "length=train.shape[0]\n",
    "\n",
    "def signx(value):\n",
    "    if (value > 0):\n",
    "        return 1\n",
    "    else:\n",
    "        return -1\n",
    "\n",
    "weight = [0, 0, 0, 0, 0]\n",
    "start = 0\n",
    "halted = 0\n",
    "steps = 0\n",
    "\n",
    "for i in range(0, 50, 1):\n",
    "    #print(\"Step \" + str(i) + \" starting from \" + str(start))\n",
    "    for j in range(start, start + length, 1):\n",
    "        index = (j-length) if (j>=length) else j\n",
    "        xj = np.concatenate(([1],train[index][0:4]))\n",
    "        yj = train[index][4]\n",
    "        halted = 1 if (j==(start+length-1)) else 0\n",
    "        if (signx(np.inner(weight,xj))!=yj):\n",
    "            weight += yj*xj\n",
    "            start = index\n",
    "            break\n",
    "    \n",
    "    if (halted==1):\n",
    "        steps = i\n",
    "        print(\"Halted with \" + str(steps+1) + \" steps, weight=\" + str(weight) )\n",
    "        break\n",
    "    #else:\n",
    "        #print(\"Step \" + str(i) + \" ending with \" + str(start))\n",
    "\n",
    "    start = start + 1    \n"
   ]
  },
  {
   "cell_type": "markdown",
   "metadata": {},
   "source": [
    "# 16. PLA"
   ]
  },
  {
   "cell_type": "markdown",
   "metadata": {},
   "source": [
    "Implement a version of PLA by visiting examples in fixed, pre-determined random cycles throughout the algorithm. Run the algorithm on the data set. Please repeat your experiment for 2000 times, each with a different random seed. What is the average number of updates before the algorithm halts?"
   ]
  },
  {
   "cell_type": "code",
   "execution_count": 25,
   "metadata": {},
   "outputs": [
    {
     "name": "stdout",
     "output_type": "stream",
     "text": [
      "Sun Jul 30 23:01:00 2017\n",
      "40.57\n",
      "Sun Jul 30 23:01:08 2017\n"
     ]
    }
   ],
   "source": [
    "import numpy as np\n",
    "\n",
    "train = np.loadtxt('hw1_15_train.dat')\n",
    "\n",
    "def signx(value):\n",
    "    if (value > 0):\n",
    "        return 1\n",
    "    else:\n",
    "        return -1\n",
    "\n",
    "def plarand(traindata):\n",
    "    length=traindata.shape[0]\n",
    "    weight = [0, 0, 0, 0, 0]\n",
    "    start = np.random.randint(0,400)\n",
    "    halted = 0\n",
    "    steps = 0\n",
    "\n",
    "    for i in range(0, 100, 1):\n",
    "        #print(\"Step \" + str(i) + \" starting from \" + str(start))\n",
    "        for j in range(start, start + length, 1):\n",
    "            index = (j-length) if (j>=length) else j\n",
    "            xj = np.concatenate(([1],traindata[index][0:4]))\n",
    "            yj = traindata[index][4]\n",
    "            halted = 1 if (j==(start+length-1)) else 0\n",
    "            if (signx(np.inner(weight,xj))!=yj):\n",
    "                weight += yj*xj\n",
    "                start = index\n",
    "                break\n",
    "\n",
    "        if (halted==1):\n",
    "            steps = i\n",
    "            #print(\"Halted with \" + str(steps+1) + \" steps, weight=\" + str(weight) )\n",
    "            break\n",
    "        #else:\n",
    "            #print(\"Step \" + str(i) + \" ending with \" + str(start))\n",
    "\n",
    "        start = np.random.randint(0,400)\n",
    "    return (steps+1)\n",
    "\n",
    "print (time.asctime(time.localtime(time.time())))\n",
    "\n",
    "a = []\n",
    "for i in range(0, 2000, 1):\n",
    "    a.append(plarand(train))\n",
    "\n",
    "print (sum(a) / len(a))\n",
    "\n",
    "print (time.asctime(time.localtime(time.time())))"
   ]
  },
  {
   "cell_type": "markdown",
   "metadata": {},
   "source": [
    "# 17. PLA"
   ]
  },
  {
   "cell_type": "markdown",
   "metadata": {},
   "source": [
    "Implement a version of PLA by visiting examples in fixed, pre-determined random cycles throughout the algorithm, while changing the update rule to be\n",
    "\n",
    "wt+1←wt+ηyn(t)xn(t)\n",
    "with η=0.5. Note that your PLA in the previous Question corresponds to η=1. Please repeat your experiment for 2000 times, each with a different random seed. What is the average number of updates before the algorithm halts?"
   ]
  },
  {
   "cell_type": "code",
   "execution_count": 34,
   "metadata": {},
   "outputs": [
    {
     "name": "stdout",
     "output_type": "stream",
     "text": [
      "Sun Jul 30 23:38:05 2017\n",
      "40.6475\n",
      "Sun Jul 30 23:38:13 2017\n"
     ]
    }
   ],
   "source": [
    "import numpy as np\n",
    "\n",
    "train = np.loadtxt('hw1_15_train.dat')\n",
    "\n",
    "def signx(value):\n",
    "    if (value > 0):\n",
    "        return 1\n",
    "    else:\n",
    "        return -1\n",
    "\n",
    "def plarand(traindata):\n",
    "    length=traindata.shape[0]\n",
    "    weight = [0, 0, 0, 0, 0]\n",
    "    start = np.random.randint(0,400)\n",
    "    halted = 0\n",
    "    steps = 0\n",
    "\n",
    "    for i in range(0, 100, 1):\n",
    "        #print(\"Step \" + str(i) + \" starting from \" + str(start))\n",
    "        for j in range(start, start + length, 1):\n",
    "            index = (j-length) if (j>=length) else j\n",
    "            xj = np.concatenate(([1],traindata[index][0:4]))\n",
    "            yj = traindata[index][4]\n",
    "            halted = 1 if (j==(start+length-1)) else 0\n",
    "            if (signx(np.inner(weight,xj))!=yj):\n",
    "                weight += 0.5*yj*xj\n",
    "                start = index\n",
    "                break\n",
    "\n",
    "        if (halted==1):\n",
    "            steps = i\n",
    "            #print(\"Halted with \" + str(steps+1) + \" steps, weight=\" + str(weight) )\n",
    "            break\n",
    "        #else:\n",
    "            #print(\"Step \" + str(i) + \" ending with \" + str(start))\n",
    "\n",
    "        start = np.random.randint(0,400)\n",
    "    return (steps+1)\n",
    "\n",
    "print (time.asctime(time.localtime(time.time())))\n",
    "\n",
    "a = []\n",
    "for i in range(0, 2000, 1):\n",
    "    a.append(plarand(train))\n",
    "\n",
    "print (sum(a) / len(a))\n",
    "\n",
    "print (time.asctime(time.localtime(time.time())))"
   ]
  },
  {
   "cell_type": "markdown",
   "metadata": {},
   "source": [
    "# 18. Pocket"
   ]
  },
  {
   "cell_type": "markdown",
   "metadata": {},
   "source": [
    "Next, we play with the pocket algorithm. Modify your PLA in Question 16 to visit examples purely randomly, and then add the \"pocket\" steps to the algorithm. We will use\n",
    "\n",
    "https://www.csie.ntu.edu.tw/~htlin/mooc/datasets/mlfound_math/hw1_18_train.dat\n",
    "\n",
    "as the training data set D, and\n",
    "\n",
    "https://www.csie.ntu.edu.tw/~htlin/mooc/datasets/mlfound_math/hw1_18_test.dat\n",
    "\n",
    "as the test set for \"verifying'' the g returned by your algorithm (see lecture 4 about verifying). The sets are of the same format as the previous one. Run the pocket algorithm with a total of 50 updates on D , and verify the performance of $w^{POCKET}$ using the test set. Please repeat your experiment for 2000 times, each with a different random seed. What is the average error rate on the test set?"
   ]
  },
  {
   "cell_type": "code",
   "execution_count": 110,
   "metadata": {},
   "outputs": [
    {
     "name": "stdout",
     "output_type": "stream",
     "text": [
      "Mon Jul 31 01:02:45 2017\n",
      "0.133598\n",
      "Mon Jul 31 01:06:49 2017\n"
     ]
    }
   ],
   "source": [
    "import numpy as np\n",
    "\n",
    "train = np.loadtxt('hw1_18_train.dat')\n",
    "test = np.loadtxt('hw1_18_test.dat')\n",
    "\n",
    "def signx(value):\n",
    "    if (value > 0):\n",
    "        return 1\n",
    "    else:\n",
    "        return -1\n",
    "\n",
    "def pockettrain(traindata, rounds):\n",
    "    length = traindata.shape[0]\n",
    "    weight = [0, 0, 0, 0, 0]\n",
    "    weight2 = [0, 0, 0, 0, 0]\n",
    "    update = 0\n",
    "\n",
    "    for i in range(0, 200, 1):\n",
    "        start = np.random.randint(0, length)\n",
    "        #print(\"Step \" + str(i) + \" starting from \" + str(start))\n",
    "        for j in range(start, start + length, 1):\n",
    "            index = (j-length) if (j>=length) else j\n",
    "            xj = np.concatenate(([1],traindata[index][0:4]))\n",
    "            yj = traindata[index][4]\n",
    "            if (signx(np.inner(weight,xj))!=yj):\n",
    "                weight += yj*xj\n",
    "                start = index\n",
    "                break\n",
    "            else:\n",
    "                start = index - 1\n",
    "\n",
    "        if (start==index):\n",
    "            update += 1\n",
    "            error = 0\n",
    "            error2 = 0\n",
    "            #print (\"update1#\", update, \", weight =\", weight, \", weight2 =\", weight2)\n",
    "            for k in range(0, length, 1):\n",
    "                xk = np.concatenate(([1],traindata[k][0:4]))\n",
    "                yk = traindata[k][4]\n",
    "                if (signx(np.inner(weight,xk))!=yk):\n",
    "                    error += 1\n",
    "                if (signx(np.inner(weight2,xk))!=yk):\n",
    "                    error2 += 1\n",
    "            #print (\"update2#\", update, \", errorRate =\", error/length, \", errorRate2 =\", error2/length)\n",
    "            if (error < error2):\n",
    "                weight2 = np.copy(weight)\n",
    "                #print (\"update3#\", update, \", weight =\", weight, \", weight2 =\", weight2)\n",
    "\n",
    "        if (update==rounds):\n",
    "            break;\n",
    "\n",
    "    return weight2\n",
    "\n",
    "def errortest(testdata, weight):\n",
    "    length = testdata.shape[0]\n",
    "    count = 0\n",
    "    for j in range(0, length, 1):\n",
    "        xj = np.concatenate(([1],testdata[j][0:4]))\n",
    "        yj = testdata[j][4]\n",
    "        if (signx(np.inner(weight,xj))!=yj):\n",
    "            count += 1\n",
    "    return (count)\n",
    "\n",
    "print (time.asctime(time.localtime(time.time())))\n",
    "\n",
    "a = []\n",
    "for i in range(0, 2000, 1):\n",
    "    weight = pockettrain(train, 50)\n",
    "    a.append(errortest(test, weight))\n",
    "\n",
    "print (sum(a) / (len(a) * len(test)))\n",
    "\n",
    "print (time.asctime(time.localtime(time.time())))"
   ]
  },
  {
   "cell_type": "markdown",
   "metadata": {},
   "source": [
    "# 19. Pocket"
   ]
  },
  {
   "cell_type": "markdown",
   "metadata": {},
   "source": [
    "Modify your algorithm in Question 18 to return $w^{50}$ (the PLA vector after 50 updates) instead of $w^{POCKET}$ after 50 updates.\n",
    "\n",
    "Run the modified algorithm on D, and verify the performance using the test set.\n",
    "\n",
    "Please repeat your experiment for 2000 times, each with a different random seed. What is the average error rate on the test set?"
   ]
  },
  {
   "cell_type": "code",
   "execution_count": 114,
   "metadata": {},
   "outputs": [
    {
     "name": "stdout",
     "output_type": "stream",
     "text": [
      "Mon Jul 31 01:13:32 2017\n",
      "0.334824\n",
      "Mon Jul 31 01:16:50 2017\n"
     ]
    }
   ],
   "source": [
    "import numpy as np\n",
    "\n",
    "train = np.loadtxt('hw1_18_train.dat')\n",
    "test = np.loadtxt('hw1_18_test.dat')\n",
    "\n",
    "def signx(value):\n",
    "    if (value > 0):\n",
    "        return 1\n",
    "    else:\n",
    "        return -1\n",
    "\n",
    "def platrain(traindata, rounds):\n",
    "    length = traindata.shape[0]\n",
    "    weight = [0, 0, 0, 0, 0]\n",
    "    update = 0\n",
    "\n",
    "    for i in range(0, 200, 1):\n",
    "        start = np.random.randint(0, length)\n",
    "        #print(\"Step \" + str(i) + \" starting from \" + str(start))\n",
    "        for j in range(start, start + length, 1):\n",
    "            index = (j-length) if (j>=length) else j\n",
    "            xj = np.concatenate(([1],traindata[index][0:4]))\n",
    "            yj = traindata[index][4]\n",
    "            if (signx(np.inner(weight,xj))!=yj):\n",
    "                weight += yj*xj\n",
    "                start = index\n",
    "                break\n",
    "            else:\n",
    "                start = index - 1\n",
    "\n",
    "        if (start==index):\n",
    "            update += 1\n",
    "            error = 0\n",
    "            for k in range(0, length, 1):\n",
    "                xk = np.concatenate(([1],traindata[k][0:4]))\n",
    "                yk = traindata[k][4]\n",
    "                if (signx(np.inner(weight,xk))!=yk):\n",
    "                    error += 1\n",
    "            #print (\"update#\", update, \", errorRate =\", error/length)\n",
    "\n",
    "        if (update==rounds):\n",
    "            break;\n",
    "\n",
    "    return weight\n",
    "\n",
    "def errortest(testdata, weight):\n",
    "    length = testdata.shape[0]\n",
    "    count = 0\n",
    "    for j in range(0, length, 1):\n",
    "        xj = np.concatenate(([1],testdata[j][0:4]))\n",
    "        yj = testdata[j][4]\n",
    "        if (signx(np.inner(weight,xj))!=yj):\n",
    "            count += 1\n",
    "    return (count)\n",
    "\n",
    "print (time.asctime(time.localtime(time.time())))\n",
    "\n",
    "a = []\n",
    "for i in range(0, 2000, 1):\n",
    "    weight = platrain(train, 50)\n",
    "    a.append(errortest(test, weight))\n",
    "\n",
    "print (sum(a) / (len(a) * len(test)))\n",
    "\n",
    "print (time.asctime(time.localtime(time.time())))"
   ]
  },
  {
   "cell_type": "markdown",
   "metadata": {},
   "source": [
    "# 20. Pocket"
   ]
  },
  {
   "cell_type": "markdown",
   "metadata": {},
   "source": [
    "Modify your algorithm in Question 18 to run for 100 updates instead of 50, and verify the performance of $w^{POCKET}$ using the test set. Please repeat your experiment for 2000 times, each with a different random seed. What is the average error rate on the test set?"
   ]
  },
  {
   "cell_type": "code",
   "execution_count": 115,
   "metadata": {},
   "outputs": [
    {
     "name": "stdout",
     "output_type": "stream",
     "text": [
      "Mon Jul 31 01:16:50 2017\n",
      "0.115646\n",
      "Mon Jul 31 01:25:43 2017\n"
     ]
    }
   ],
   "source": [
    "import numpy as np\n",
    "\n",
    "train = np.loadtxt('hw1_18_train.dat')\n",
    "test = np.loadtxt('hw1_18_test.dat')\n",
    "\n",
    "def signx(value):\n",
    "    if (value > 0):\n",
    "        return 1\n",
    "    else:\n",
    "        return -1\n",
    "\n",
    "def pockettrain(traindata, rounds):\n",
    "    length = traindata.shape[0]\n",
    "    weight = [0, 0, 0, 0, 0]\n",
    "    weight2 = [0, 0, 0, 0, 0]\n",
    "    update = 0\n",
    "\n",
    "    for i in range(0, 200, 1):\n",
    "        start = np.random.randint(0, length)\n",
    "        #print(\"Step \" + str(i) + \" starting from \" + str(start))\n",
    "        for j in range(start, start + length, 1):\n",
    "            index = (j-length) if (j>=length) else j\n",
    "            xj = np.concatenate(([1],traindata[index][0:4]))\n",
    "            yj = traindata[index][4]\n",
    "            if (signx(np.inner(weight,xj))!=yj):\n",
    "                weight += yj*xj\n",
    "                start = index\n",
    "                break\n",
    "            else:\n",
    "                start = index - 1\n",
    "\n",
    "        if (start==index):\n",
    "            update += 1\n",
    "            error = 0\n",
    "            error2 = 0\n",
    "            #print (\"update1#\", update, \", weight =\", weight, \", weight2 =\", weight2)\n",
    "            for k in range(0, length, 1):\n",
    "                xk = np.concatenate(([1],traindata[k][0:4]))\n",
    "                yk = traindata[k][4]\n",
    "                if (signx(np.inner(weight,xk))!=yk):\n",
    "                    error += 1\n",
    "                if (signx(np.inner(weight2,xk))!=yk):\n",
    "                    error2 += 1\n",
    "            #print (\"update2#\", update, \", errorRate =\", error/length, \", errorRate2 =\", error2/length)\n",
    "            if (error < error2):\n",
    "                weight2 = np.copy(weight)\n",
    "                #print (\"update3#\", update, \", weight =\", weight, \", weight2 =\", weight2)\n",
    "\n",
    "        if (update==rounds):\n",
    "            break;\n",
    "\n",
    "    return weight2\n",
    "\n",
    "def errortest(testdata, weight):\n",
    "    length = testdata.shape[0]\n",
    "    count = 0\n",
    "    for j in range(0, length, 1):\n",
    "        xj = np.concatenate(([1],testdata[j][0:4]))\n",
    "        yj = testdata[j][4]\n",
    "        if (signx(np.inner(weight,xj))!=yj):\n",
    "            count += 1\n",
    "    return (count)\n",
    "\n",
    "print (time.asctime(time.localtime(time.time())))\n",
    "\n",
    "a = []\n",
    "for i in range(0, 2000, 1):\n",
    "    weight = pockettrain(train, 100)\n",
    "    a.append(errortest(test, weight))\n",
    "\n",
    "print (sum(a) / (len(a) * len(test)))\n",
    "\n",
    "print (time.asctime(time.localtime(time.time())))"
   ]
  },
  {
   "cell_type": "code",
   "execution_count": null,
   "metadata": {
    "collapsed": true
   },
   "outputs": [],
   "source": []
  }
 ],
 "metadata": {
  "kernelspec": {
   "display_name": "Python 3",
   "language": "python",
   "name": "python3"
  },
  "language_info": {
   "codemirror_mode": {
    "name": "ipython",
    "version": 3
   },
   "file_extension": ".py",
   "mimetype": "text/x-python",
   "name": "python",
   "nbconvert_exporter": "python",
   "pygments_lexer": "ipython3",
   "version": "3.6.1"
  }
 },
 "nbformat": 4,
 "nbformat_minor": 2
}
