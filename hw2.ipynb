{
 "cells": [
  {
   "cell_type": "code",
   "execution_count": 6,
   "metadata": {},
   "outputs": [
    {
     "name": "stdout",
     "output_type": "stream",
     "text": [
      "450539.51469718025\n",
      "452028.15519749676\n",
      "453450.6115997635\n",
      "454812.51926116494\n",
      "456118.8230858131\n"
     ]
    }
   ],
   "source": [
    "from math import *\n",
    "\n",
    "def original_vc_bound(N):\n",
    "    epsilon=0.05\n",
    "    dvc=10\n",
    "    delta=0.05\n",
    "    return ((8/(epsilon*epsilon))*log(4*(mt.pow(2*N,dvc)+1)/delta))\n",
    "\n",
    "\n",
    "print (original_vc_bound(420000))\n",
    "print (original_vc_bound(440000))\n",
    "print (original_vc_bound(460000))\n",
    "print (original_vc_bound(480000))\n",
    "print (original_vc_bound(500000))"
   ]
  },
  {
   "cell_type": "code",
   "execution_count": 8,
   "metadata": {},
   "outputs": [
    {
     "name": "stdout",
     "output_type": "stream",
     "text": [
      "original_vc_bound = 0.28763435422082\n",
      "rademacher_penalty_bound = 0.16949304617602962\n",
      "parrondo_and_van_den_broek = 0.10199331051062348\n",
      "devroye = 0.09721509593613885\n",
      "variant_vc_bound = 0.38842124975258246\n",
      "---------\n",
      "original_vc_bound = 6.622129876662262\n",
      "rademacher_penalty_bound = 4.2199141284787265\n",
      "parrondo_and_van_den_broek = 2.5669956769171542\n",
      "devroye = 2.8245663463218187\n",
      "variant_vc_bound = 7.649395780933905\n"
     ]
    }
   ],
   "source": [
    "from math import *\n",
    "\n",
    "def original_vc_bound(N):\n",
    "    dvc=10\n",
    "    delta=0.05\n",
    "    return (sqrt((8/N)*log(4*pow(2*N,dvc)/delta)))\n",
    "\n",
    "def rademacher_penalty_bound(N):\n",
    "    dvc=10\n",
    "    delta=0.05\n",
    "    return (mt.sqrt((2/N)*log(2*N*mt.pow(N,dvc)/delta)) + sqrt((2/N)*log(1/delta)) + 1/N)\n",
    "\n",
    "def parrondo_and_van_den_broek(N):\n",
    "    epsilon=0.001\n",
    "    dvc=10\n",
    "    delta=0.05\n",
    "    convergence=0.99\n",
    "    \n",
    "    while (convergence < 0.99999999999999):\n",
    "        old_epsilon = epsilon\n",
    "        epsilon=sqrt((1/N)*(2*epsilon+log(6*pow(2*N,dvc)/delta)))\n",
    "        convergence = old_epsilon / epsilon\n",
    "        #print (epsilon)\n",
    "\n",
    "    return epsilon\n",
    "\n",
    "def devroye(N):\n",
    "    epsilon=0.001\n",
    "    dvc=10\n",
    "    delta=0.05\n",
    "    convergence=0.99\n",
    "    \n",
    "    while (convergence < 0.99999999999999):\n",
    "        old_epsilon = epsilon\n",
    "        epsilon=sqrt((0.5/N)*(4*epsilon*(1+epsilon)+log(4*pow(N*N,dvc)/delta)))\n",
    "        convergence = old_epsilon / epsilon\n",
    "        #print (epsilon)\n",
    "\n",
    "    return epsilon\n",
    "\n",
    "def variant_vc_bound(N):\n",
    "    dvc=10\n",
    "    delta=0.05\n",
    "    return (sqrt((16/N)*log(2*pow(N,dvc)/sqrt(delta))))\n",
    "\n",
    "N=10000\n",
    "print (\"original_vc_bound =\", original_vc_bound(N))\n",
    "print (\"rademacher_penalty_bound =\", rademacher_penalty_bound(N))\n",
    "print (\"parrondo_and_van_den_broek =\", parrondo_and_van_den_broek (N))\n",
    "print (\"devroye =\", devroye (N))\n",
    "print (\"variant_vc_bound =\", variant_vc_bound (N))\n",
    "\n",
    "print (\"---------\")\n",
    "\n",
    "N=5\n",
    "print (\"original_vc_bound =\", original_vc_bound(N))\n",
    "print (\"rademacher_penalty_bound =\", rademacher_penalty_bound(N))\n",
    "print (\"parrondo_and_van_den_broek =\", parrondo_and_van_den_broek (N))\n",
    "print (\"devroye =\", devroye (N))\n",
    "print (\"variant_vc_bound =\", variant_vc_bound (N))"
   ]
  },
  {
   "cell_type": "markdown",
   "metadata": {},
   "source": []
  }
 ],
 "metadata": {
  "kernelspec": {
   "display_name": "Python 3",
   "language": "python",
   "name": "python3"
  },
  "language_info": {
   "codemirror_mode": {
    "name": "ipython",
    "version": 3
   },
   "file_extension": ".py",
   "mimetype": "text/x-python",
   "name": "python",
   "nbconvert_exporter": "python",
   "pygments_lexer": "ipython3",
   "version": "3.6.1"
  }
 },
 "nbformat": 4,
 "nbformat_minor": 2
}
