{
 "cells": [
  {
   "cell_type": "code",
   "execution_count": 6,
   "metadata": {},
   "outputs": [
    {
     "name": "stdout",
     "output_type": "stream",
     "text": [
      "450539.51469718025\n",
      "452028.15519749676\n",
      "453450.6115997635\n",
      "454812.51926116494\n",
      "456118.8230858131\n"
     ]
    }
   ],
   "source": [
    "from math import *\n",
    "\n",
    "def original_vc_bound(N):\n",
    "    epsilon=0.05\n",
    "    dvc=10\n",
    "    delta=0.05\n",
    "    return ((8/(epsilon*epsilon))*log(4*(mt.pow(2*N,dvc)+1)/delta))\n",
    "\n",
    "\n",
    "print (original_vc_bound(420000))\n",
    "print (original_vc_bound(440000))\n",
    "print (original_vc_bound(460000))\n",
    "print (original_vc_bound(480000))\n",
    "print (original_vc_bound(500000))"
   ]
  },
  {
   "cell_type": "code",
   "execution_count": 8,
   "metadata": {},
   "outputs": [
    {
     "name": "stdout",
     "output_type": "stream",
     "text": [
      "original_vc_bound = 0.28763435422082\n",
      "rademacher_penalty_bound = 0.16949304617602962\n",
      "parrondo_and_van_den_broek = 0.10199331051062348\n",
      "devroye = 0.09721509593613885\n",
      "variant_vc_bound = 0.38842124975258246\n",
      "---------\n",
      "original_vc_bound = 6.622129876662262\n",
      "rademacher_penalty_bound = 4.2199141284787265\n",
      "parrondo_and_van_den_broek = 2.5669956769171542\n",
      "devroye = 2.8245663463218187\n",
      "variant_vc_bound = 7.649395780933905\n"
     ]
    }
   ],
   "source": [
    "from math import *\n",
    "\n",
    "def original_vc_bound(N):\n",
    "    dvc=10\n",
    "    delta=0.05\n",
    "    return (sqrt((8/N)*log(4*pow(2*N,dvc)/delta)))\n",
    "\n",
    "def rademacher_penalty_bound(N):\n",
    "    dvc=10\n",
    "    delta=0.05\n",
    "    return (mt.sqrt((2/N)*log(2*N*mt.pow(N,dvc)/delta)) + sqrt((2/N)*log(1/delta)) + 1/N)\n",
    "\n",
    "def parrondo_and_van_den_broek(N):\n",
    "    epsilon=0.001\n",
    "    dvc=10\n",
    "    delta=0.05\n",
    "    convergence=0.99\n",
    "    \n",
    "    while (convergence < 0.99999999999999):\n",
    "        old_epsilon = epsilon\n",
    "        epsilon=sqrt((1/N)*(2*epsilon+log(6*pow(2*N,dvc)/delta)))\n",
    "        convergence = old_epsilon / epsilon\n",
    "        #print (epsilon)\n",
    "\n",
    "    return epsilon\n",
    "\n",
    "def devroye(N):\n",
    "    epsilon=0.001\n",
    "    dvc=10\n",
    "    delta=0.05\n",
    "    convergence=0.99\n",
    "    \n",
    "    while (convergence < 0.99999999999999):\n",
    "        old_epsilon = epsilon\n",
    "        epsilon=sqrt((0.5/N)*(4*epsilon*(1+epsilon)+log(4*pow(N*N,dvc)/delta)))\n",
    "        convergence = old_epsilon / epsilon\n",
    "        #print (epsilon)\n",
    "\n",
    "    return epsilon\n",
    "\n",
    "def variant_vc_bound(N):\n",
    "    dvc=10\n",
    "    delta=0.05\n",
    "    return (sqrt((16/N)*log(2*pow(N,dvc)/sqrt(delta))))\n",
    "\n",
    "N=10000\n",
    "print (\"original_vc_bound =\", original_vc_bound(N))\n",
    "print (\"rademacher_penalty_bound =\", rademacher_penalty_bound(N))\n",
    "print (\"parrondo_and_van_den_broek =\", parrondo_and_van_den_broek (N))\n",
    "print (\"devroye =\", devroye (N))\n",
    "print (\"variant_vc_bound =\", variant_vc_bound (N))\n",
    "\n",
    "print (\"---------\")\n",
    "\n",
    "N=5\n",
    "print (\"original_vc_bound =\", original_vc_bound(N))\n",
    "print (\"rademacher_penalty_bound =\", rademacher_penalty_bound(N))\n",
    "print (\"parrondo_and_van_den_broek =\", parrondo_and_van_den_broek (N))\n",
    "print (\"devroye =\", devroye (N))\n",
    "print (\"variant_vc_bound =\", variant_vc_bound (N))"
   ]
  },
  {
   "cell_type": "markdown",
   "metadata": {},
   "source": [
    "# Perceptron Learning Algorithm"
   ]
  },
  {
   "cell_type": "code",
   "execution_count": 10,
   "metadata": {},
   "outputs": [
    {
     "name": "stdout",
     "output_type": "stream",
     "text": [
      "Halted with 46 steps, weight=[-3.         3.0841436 -1.583081   2.391305   4.5287635]\n"
     ]
    }
   ],
   "source": [
    "from numpy import *\n",
    "\n",
    "train = loadtxt('hw1_15_train.dat')\n",
    "length=train.shape[0]\n",
    "\n",
    "def signx(value):\n",
    "    if (value > 0):\n",
    "        return 1\n",
    "    else:\n",
    "        return -1\n",
    "\n",
    "weight = [0, 0, 0, 0, 0]\n",
    "start = 0\n",
    "halted = 0\n",
    "steps = 0\n",
    "\n",
    "for i in range(0, 50, 1):\n",
    "    #print(\"Step \" + str(i) + \" starting from \" + str(start))\n",
    "    for j in range(start, start + length, 1):\n",
    "        index = (j-length) if (j>=length) else j\n",
    "        xj = concatenate(([1],train[index][0:4]))\n",
    "        yj = train[index][4]\n",
    "        halted = 1 if (j==(start+length-1)) else 0\n",
    "        if (signx(inner(weight,xj))!=yj):\n",
    "            weight += yj*xj\n",
    "            start = index\n",
    "            break\n",
    "    \n",
    "    if (halted==1):\n",
    "        steps = i\n",
    "        print(\"Halted with \" + str(steps+1) + \" steps, weight=\" + str(weight) )\n",
    "        break\n",
    "    #else:\n",
    "        #print(\"Step \" + str(i) + \" ending with \" + str(start))\n",
    "\n",
    "    start = start + 1    \n"
   ]
  },
  {
   "cell_type": "markdown",
   "metadata": {},
   "source": [
    "# Decision Stump Algorithm (1-D PLA)\n",
    "It can't stop since 20% noise is introduced which makes D is not linear separatable."
   ]
  },
  {
   "cell_type": "code",
   "execution_count": 44,
   "metadata": {},
   "outputs": [
    {
     "name": "stdout",
     "output_type": "stream",
     "text": [
      "0.8679845870055274 1.0\n",
      "0.8652441602041909 1.0\n",
      "0.9731358695231018 1.0\n",
      "0.18594632282607848 1.0\n",
      "0.08428540572396925 1.0\n",
      "-0.8125627265837536 -1.0\n",
      "-0.7637331897461141 -1.0\n",
      "-0.7675879007439517 -1.0\n",
      "0.47392962160479124 1.0\n",
      "-0.5845667501672418 -1.0\n",
      "0.7636993425494638 1.0\n",
      "0.06463747892557059 1.0\n",
      "-0.8917788202390518 -1.0\n",
      "0.25344652267699774 1.0\n",
      "0.4458830463541166 1.0\n",
      "0.9119537579030066 1.0\n",
      "-0.6643322084327148 -1.0\n",
      "-0.9310672394487534 -1.0\n",
      "0.21736164173598804 1.0\n",
      "0.9469118128897258 1.0\n",
      "Step 0 starting from 0\n",
      "Step 0 ending with 0\n",
      "Step 1 starting from 1\n",
      "Step 1 ending with 5\n",
      "Step 2 starting from 6\n",
      "Halted with 3 steps, weight=[ 0.          1.68054731]\n"
     ]
    }
   ],
   "source": [
    "from numpy import *\n",
    "from math import *\n",
    "from random import *\n",
    "\n",
    "# Prepare training data\n",
    "\n",
    "length = 20\n",
    "x_train = [uniform(-1,1) for i in range(length)]\n",
    "fx_train = sign(x_train)\n",
    "for i in range(length):\n",
    "    if (random() <= 0.2):\n",
    "        fx_tr[i]=-fx_tr[i]\n",
    "    print (x_train[i], fx_train[i])\n",
    "\n",
    "weight = [0, 0]\n",
    "start = 0\n",
    "halted = 0\n",
    "steps = 0\n",
    "\n",
    "# Start training data\n",
    "\n",
    "for i in range(50):\n",
    "    print(\"Step \" + str(i) + \" starting from \" + str(start))\n",
    "    for j in range(start, start + length, 1):\n",
    "        index = (j-length) if (j>=length) else j\n",
    "        xj = concatenate(([1],[x_train[index]]))\n",
    "        yj = fx_train[index]\n",
    "        halted = 1 if (j==(start+length-1)) else 0\n",
    "        if (sign(inner(weight,xj))!=yj):\n",
    "            weight += yj*xj\n",
    "            start = index\n",
    "            break\n",
    "    \n",
    "    if (halted==1):\n",
    "        steps = i\n",
    "        print(\"Halted with \" + str(steps+1) + \" steps, weight=\" + str(weight) )\n",
    "        break\n",
    "    else:\n",
    "        print(\"Step \" + str(i) + \" ending with \" + str(start))\n",
    "\n",
    "    start = start + 1 \n"
   ]
  },
  {
   "cell_type": "code",
   "execution_count": null,
   "metadata": {
    "collapsed": true
   },
   "outputs": [],
   "source": []
  }
 ],
 "metadata": {
  "kernelspec": {
   "display_name": "Python 3",
   "language": "python",
   "name": "python3"
  },
  "language_info": {
   "codemirror_mode": {
    "name": "ipython",
    "version": 3
   },
   "file_extension": ".py",
   "mimetype": "text/x-python",
   "name": "python",
   "nbconvert_exporter": "python",
   "pygments_lexer": "ipython3",
   "version": "3.6.1"
  }
 },
 "nbformat": 4,
 "nbformat_minor": 2
}
