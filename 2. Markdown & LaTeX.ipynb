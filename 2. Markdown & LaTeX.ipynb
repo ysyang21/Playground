








<!DOCTYPE html>
<html lang="en">

<head>
  <meta charset="utf-8">
  <title>Jupyter Notebook Viewer</title>
  <meta name="viewport" content="width=device-width, initial-scale=1.0">
  <meta name="description" content="">
  <meta name="author" content="">
  
  <meta name="robots" content="noindex,nofollow">
  

  <!--NEW RELIC Start Perf Measurement-->
  
  <!--NREND-->

  <!-- Le styles -->
  <script src="/cdn-cgi/apps/head/MuIIl4I_IVFkxldaVu1mdWee9as.js"></script><link href="/static/build/styles.css?v=187600a0f647dfa49ca5629b21844856" rel="stylesheet">

  <!-- Le HTML5 shim, for IE6-8 support of HTML5 elements -->
  <!--[if lt IE 9]>
    <script src="http://html5shim.googlecode.com/svn/trunk/html5.js"></script>
  <![endif]-->

  <!-- Le fav and touch icons -->
  <link rel="shortcut icon" href="/static/ico/ipynb_icon_16x16.png">
  <link rel="apple-touch-icon-precomposed" sizes="144x144"
        href="/static/ico/apple-touch-icon-144-precomposed.png?v=5a3c9ede93e2a8b8ea9e3f8f3da1a905">
  <link rel="apple-touch-icon-precomposed" sizes="114x114"
        href="/static/ico/apple-touch-icon-114-precomposed.png?v=45d86fc8f24dc00638035e1dd7a6d898">
  <link rel="apple-touch-icon-precomposed" sizes="72x72"
        href="/static/ico/apple-touch-icon-72-precomposed.png?v=540b5eb0f3cfd25f1439d1c9bd30e15f">
  <link rel="apple-touch-icon-precomposed"
        href="/static/ico/apple-touch-icon-57-precomposed.png?v=225f0590e187e1458625654f10a28f56">
  
  

  

  
  <meta name="twitter:card" content="summary">
  <meta name="twitter:title" content="Notebook on nbviewer">
  <meta name="twitter:description" content="Check out this Jupyter notebook!">

  
  <meta name="twitter:domain" content="nbviewer.ipython.org">
  <meta name="twitter:image:src" content="http://ipython.org/ipython-doc/dev/_images/ipynb_icon_128x128.png">

  
    <link href="/static/build/notebook.css?v=0a1fd720873b368f697f2028629e42e3" rel="stylesheet">
  

  

  
    <script src="https://cdnjs.cloudflare.com/ajax/libs/mathjax/2.7.1/MathJax.js?config=TeX-AMS_HTML" type="text/javascript">
    </script>
    <script type="text/javascript">
      init_mathjax = function() {
        if (window.MathJax) {
          // MathJax loaded
          MathJax.Hub.Config({
            TeX: {
              equationNumbers: {
                autoNumber: "AMS",
                useLabelIds: true
              }
            },
            tex2jax: {
              inlineMath: [ ['$','$'], ["\\(","\\)"] ],
              displayMath: [ ['$$','$$'], ["\\[","\\]"] ],
              processEscapes: true,
              processEnvironments: true
            },
            displayAlign: 'center',
            "HTML-CSS": {
              styles: {'.MathJax_Display': {"margin": 0}},
              linebreaks: { automatic: true }
            }
          });
          MathJax.Hub.Queue(["Typeset", MathJax.Hub]);
        }
      }
      init_mathjax();
    </script>
  

</head>

<body class="nbviewer">

  <!-- These are loaded at the top of the body so they are available to
       notebook cells when they are loaded below. -->
  <script src="/static/components/jquery/dist/jquery.min.js?v=c9f5aeeca3ad37bf2aa006139b935f0a"></script>
  <script src="/static/components/requirejs/require.js?v=6da8be361b9ee26c5e721e76c6d4afce"></script>
  <script src="/static/components/moment/min/moment.min.js?v=89f87298ad94aa1e6b92f42eb66da043"></script>

<!-- Navbar
================================================== -->
  <nav id="menubar" class="navbar navbar-default navbar-fixed-top" data-spy="affix">
    <div class="container">
      <div class="navbar-header">
        <button type="button" class="navbar-toggle collapsed" data-toggle="collapse" data-target=".navbar-collapse">
          <span class="sr-only">Toggle navigation</span>
          <i class="fa fa-bars"></i>
        </button>
        <a class="navbar-brand" href="/">
          <img src="/static/img/nav_logo.svg?v=479cefe8d932fb14a67b93911b97d70f" width="159"/>
        </a>
      </div>

      <div class="collapse navbar-collapse">
        <ul class="nav navbar-nav navbar-right">
          <li>
            <a class="active" href="http://jupyter.org">JUPYTER</a>
          </li>
          <li>
    <a href="/faq" title="FAQ" >
      
        <span>FAQ</span>
      
    </a>
  </li>

          
  
    
  
    
      
        <li>
    <a href="/format/script/github/twistedhardware/mltutorial/blob/master/notebooks/jupyter/2.%20Markdown%20%26%20LaTeX.ipynb" title="View as Code" >
      <span class="fa fa-code fa-2x menu-icon"></span>
      <span class="menu-text">View as Code</span>
    </a>
  </li>
      
    
  

  
    <li>
    <a href="#" title="Python 2 Kernel" >
      <span class="fa fa-server fa-2x menu-icon"></span>
      <span class="menu-text">Python 2 Kernel</span>
    </a>
  </li>
  

  
    <li>
    <a href="https://github.com/twistedhardware/mltutorial/blob/master/notebooks/jupyter/2.%20Markdown%20%26%20LaTeX.ipynb" title="View on GitHub" >
      <span class="fa fa-github fa-2x menu-icon"></span>
      <span class="menu-text">View on GitHub</span>
    </a>
  </li>
  

  <li>
    <a href="https://raw.githubusercontent.com/twistedhardware/mltutorial/master/notebooks/jupyter/2.%20Markdown%20%26%20LaTeX.ipynb" title="Download Notebook" download>
      <span class="fa fa-download fa-2x menu-icon"></span>
      <span class="menu-text">Download Notebook</span>
    </a>
  </li>

        </ul>
      </div><!-- /.navbar-collapse -->
      
      
    </div>
  </nav>

  <div class="container container-main">
    
  
  <ol class="breadcrumb">
    
      <li>
        <a href="/github/twistedhardware/mltutorial/tree/master">mltutorial</a>
      </li>
    
      <li>
        <a href="/github/twistedhardware/mltutorial/tree/master/notebooks">notebooks</a>
      </li>
    
      <li>
        <a href="/github/twistedhardware/mltutorial/tree/master/notebooks/jupyter">jupyter</a>
      </li>
    
  </ol>
  
  <div id="notebook">
    <div id="notebook-container">
      
<div class="cell border-box-sizing text_cell rendered"><div class="prompt input_prompt">
</div>
<div class="inner_cell">
<div class="text_cell_render border-box-sizing rendered_html">
<h1 id="Tutorial-Brief">Tutorial Brief<a class="anchor-link" href="#Tutorial-Brief">&#182;</a></h1><p><strong>Video Tutorial:</strong> <a href="https://www.youtube.com/user/roshanRush">https://www.youtube.com/user/roshanRush</a></p>
<p>Jupyter has an implementation of markdown language that can be used in in markdown cells to create formatted text and media documentation in your notebook. LaTeX is also implemented to create high quality mathematical typeset.</p>
<h1 id="Markdown">Markdown<a class="anchor-link" href="#Markdown">&#182;</a></h1><h2 id="Headings">Headings<a class="anchor-link" href="#Headings">&#182;</a></h2><h1 id="H1">H1<a class="anchor-link" href="#H1">&#182;</a></h1><h2 id="H2">H2<a class="anchor-link" href="#H2">&#182;</a></h2><h3 id="H3">H3<a class="anchor-link" href="#H3">&#182;</a></h3><h4 id="H4">H4<a class="anchor-link" href="#H4">&#182;</a></h4><h5 id="H5">H5<a class="anchor-link" href="#H5">&#182;</a></h5><h6 id="H6">H6<a class="anchor-link" href="#H6">&#182;</a></h6><p><strong>Code:</strong></p>

<pre><code>markdown
#H1
##H2
###H3
####H4
#####H5
######H6</code></pre>
<h2 id="Alternative-Headings">Alternative Headings<a class="anchor-link" href="#Alternative-Headings">&#182;</a></h2><h1 id="Heading-1">Heading 1<a class="anchor-link" href="#Heading-1">&#182;</a></h1><h2 id="Heading-2">Heading 2<a class="anchor-link" href="#Heading-2">&#182;</a></h2><p><strong>Code:</strong></p>

<pre><code>markdown
Heading 1
=========

Heading 2
---------</code></pre>
<h2 id="Font-Styles">Font Styles<a class="anchor-link" href="#Font-Styles">&#182;</a></h2><p><strong>Bold Font</strong> or <strong>Bold Font</strong></p>
<p><em>Italic</em> or <em>Italic Font</em></p>
<p><del>Scratched Text</del></p>
<p>Markdown doesn't support underline. but you can do that using HTML <u>Text</u></p>
<p><strong>Code:</strong></p>

<pre><code>markdown
**Bold Font** or __Bold Font__

*Italic* or _Italic Font_

~~Scratched Text~~

Markdown doesn't support underline. but you can do that using HTML &lt;u&gt;Text&lt;/u&gt;</code></pre>
<h2 id="Lists">Lists<a class="anchor-link" href="#Lists">&#182;</a></h2><ul>
<li>item</li>
<li>item<ul>
<li>subitem</li>
<li>subitem</li>
</ul>
</li>
<li>item</li>
</ul>
<ol>
<li>item</li>
<li>item<ol>
<li>sub item</li>
<li>sub item</li>
</ol>
</li>
<li>item</li>
</ol>
<p><strong>Code:</strong></p>

<pre><code>markdown
- item
- item
 - subitem
 - subitem
- item


1. item
2. item
 1. sub item
 2. sub item
3. item</code></pre>
<h2 id="Links">Links<a class="anchor-link" href="#Links">&#182;</a></h2><p><a href="http://www.github.com/">http://www.github.com/</a></p>
<p><a href="http://www.github.com/">Github</a></p>
<p><strong>Code:</strong></p>

<pre><code>http://www.github.com/

[Github](http://www.github.com/)</code></pre>
<h2 id="Images">Images<a class="anchor-link" href="#Images">&#182;</a></h2><p><img src="http://www.google.com/logos/2012/turing-doodle-static.jpg" alt="Turing&#39;s Device" title="Alan Turing&#39;s 100th Birthday"></p>
<p><strong>Code:</strong></p>

<pre><code>markdown
![Turing's Device](http://www.google.com/logos/2012/turing-doodle-static.jpg "Alan Turing's 100th Birthday")</code></pre>
<h2 id="Quotes">Quotes<a class="anchor-link" href="#Quotes">&#182;</a></h2><blockquote><p>Why, oh why, Javascript??? Wars, famine, planetary destruction... I guess as a species, we deserve this abomination...</p>
<p><a href="https://twitter.com/fperez_org">Fernando Perez</a></p>
</blockquote>
<p><strong>Code:</strong></p>

<pre><code>&gt; Why, oh why, Javascript??? Wars, famine, planetary destruction... I guess as a species, we deserve this abomination...
&gt;
&gt; [Fernando Perez](https://twitter.com/fperez_org)</code></pre>
<h2 id="Horizontal-Line">Horizontal Line<a class="anchor-link" href="#Horizontal-Line">&#182;</a></h2><hr>
<p><strong>Code:</strong></p>

<pre><code>markdown
---</code></pre>
<h2 id="Tables">Tables<a class="anchor-link" href="#Tables">&#182;</a></h2><table>
<thead><tr>
<th>Tables</th>
<th style="text-align:center">Are</th>
<th style="text-align:right">Cool</th>
</tr>
</thead>
<tbody>
<tr>
<td>col 3 is</td>
<td style="text-align:center">right-aligned</td>
<td style="text-align:right">1600</td>
</tr>
<tr>
<td>col 2 is</td>
<td style="text-align:center">centered</td>
<td style="text-align:right">12</td>
</tr>
<tr>
<td>zebra stripes</td>
<td style="text-align:center">are neat</td>
<td style="text-align:right">1</td>
</tr>
</tbody>
</table>
<p><strong>Code:</strong></p>

<pre><code>| Tables        | Are           | Cool  |
| ------------- |:-------------:| -----:|
| col 3 is      | right-aligned |  1600 |
| col 2 is      | centered      |    12 |
| zebra stripes | are neat      |     1 |</code></pre>
<h2 id="HTML">HTML<a class="anchor-link" href="#HTML">&#182;</a></h2><p><b>You</b> can <i>render</i> almost any <span style="color:red;">HTML</span> code you <u>like</u>.</p>
<p><strong>Code:</strong></p>

<pre><code>&lt;b&gt;You&lt;/b&gt; can &lt;i&gt;render&lt;/i&gt; almost any &lt;span style="color:red;"&gt;HTML&lt;/span&gt; code you &lt;u&gt;like&lt;/u&gt;.</code></pre>
<h2 id="Code">Code<a class="anchor-link" href="#Code">&#182;</a></h2><p>You can add in line code like this <code>import numpy as np</code></p>
<p>Or block code:</p>
<p>Python Code:</p>
<div class="highlight"><pre><span></span><span class="n">x</span> <span class="o">=</span> <span class="mi">5</span>
<span class="k">print</span> <span class="s2">&quot;</span><span class="si">%.2f</span><span class="s2">&quot;</span> <span class="o">%</span> <span class="n">x</span>
</pre></div>
<p>Java Script Code:</p>
<div class="highlight"><pre><span></span><span class="nx">x</span> <span class="o">=</span> <span class="mi">5</span>
<span class="nx">alert</span><span class="p">(</span><span class="nx">x</span><span class="p">);</span>
</pre></div>
<p><strong>Code:</strong></p>
<pre>
Python Code:
```python
x = 5
print "%.2f" % x
```

Java Script Code:
```javascript
x = 5
alert(x);
```
</pre>
</div>
</div>
</div>
<div class="cell border-box-sizing text_cell rendered"><div class="prompt input_prompt">
</div>
<div class="inner_cell">
<div class="text_cell_render border-box-sizing rendered_html">
<h1 id="LaTeX">LaTeX<a class="anchor-link" href="#LaTeX">&#182;</a></h1><p><strong>References:</strong></p>
<ul>
<li><a href="http://en.wikibooks.org/wiki/LaTeX/Mathematics">LaTeX Wiki</a></li>
<li><a href="https://stat.duke.edu/resources/computing/latex">Duke University, Department of  Statistical Science</a></li>
<li><a href="http://www.equationsheet.com/">Equation Sheet</a></li>
</ul>
<p>LaTeX is a large typeset system for scientific documentation which symbols for mathematics, statistics, physics, quantum mechanics, and computer science. It is beyond the scope of this tutorial to cover everything, but we will go over the basics of writing high quality mathematical equations using LaTeX.</p>
<p>You can use LaTeX in line by like this $y = x^2$ or in block like this $$y = x^2$$</p>
<p><strong>Code:</strong></p>

<pre><code>markdown
You can use LaTeX in line by like this $y = x^2$ or in block like this $$y = x^2$$</code></pre>
<h2 id="Operators:">Operators:<a class="anchor-link" href="#Operators:">&#182;</a></h2><ul>
<li>Add:<ul>
<li>$x + y$</li>
</ul>
</li>
<li>Subtract:<ul>
<li>$x - y$</li>
</ul>
</li>
<li>Multiply<ul>
<li>$x * y$</li>
<li>$x \times y$ </li>
<li>$x . y$ </li>
</ul>
</li>
<li>Divide<ul>
<li>$x / y$</li>
<li>$x \div y$</li>
<li>$\frac{x}{y}$</li>
</ul>
</li>
</ul>
<p><strong>Code:</strong></p>

<pre><code>markdown
- Add:
 - $x + y$
- Subtract:
 - $x - y$
- Multiply
 - $x * y$
 - $x \times y$ 
 - $x . y$ 
- Divide
 - $x / y$
 - $x \div y$
 - $\frac{x}{y}$</code></pre>
<h2 id="Relations">Relations<a class="anchor-link" href="#Relations">&#182;</a></h2><ul>
<li>$\pi \approx 3.14159$</li>
<li>${1 \over 0} \neq \inf$</li>
<li>$0 &lt; x &gt; 1$</li>
<li>$0 \leq x \geq 1$</li>
</ul>
<p><strong>Code:</strong></p>

<pre><code>- $\pi \approx 3.14159$
- ${1 \over 0} \neq \inf$
- $0 &lt; x &gt; 1$
- $0 \leq x \geq 1$</code></pre>
<h2 id="Fractions">Fractions<a class="anchor-link" href="#Fractions">&#182;</a></h2><ul>
<li>$^1/_2$</li>
<li>$\frac{1}{2x}$</li>
<li>${3 \over 4}$</li>
</ul>
<p><strong>Code:</strong></p>

<pre><code>- $^1/_2$
- $\frac{1}{2x}$
- ${3 \over 4}$</code></pre>
<h2 id="Greek-Alphabet">Greek Alphabet<a class="anchor-link" href="#Greek-Alphabet">&#182;</a></h2><table>
<thead><tr>
<th>Small Letter</th>
<th>Capical Letter</th>
<th>Alervative</th>
</tr>
</thead>
<tbody>
<tr>
<td>$\alpha$   <code>\alpha</code></td>
<td>$A$ <code>A</code></td>
<td></td>
</tr>
<tr>
<td>$\beta$   <code>\beta</code></td>
<td>$B$ <code>B</code></td>
<td></td>
</tr>
<tr>
<td>$\gamma$   <code>\gamma</code></td>
<td>$\Gamma$ <code>\Gamma</code></td>
<td></td>
</tr>
<tr>
<td>$\delta$   <code>\delta</code></td>
<td>$\Delta$ <code>\Delta</code></td>
<td></td>
</tr>
<tr>
<td>$\epsilon$ <code>\epsilon</code></td>
<td>$E$ <code>E</code></td>
<td>$\varepsilon$ <code>\varepsilon</code></td>
</tr>
<tr>
<td>$\zeta$   <code>\zeta</code></td>
<td>$Z$ <code>Z</code></td>
<td></td>
</tr>
<tr>
<td>$\eta$   <code>\eta</code></td>
<td>$H$ <code>H</code></td>
<td></td>
</tr>
<tr>
<td>$\theta$ <code>\theta</code></td>
<td>$\Theta$ <code>\Theta</code></td>
<td>$\vartheta$ <code>\vartheta</code></td>
</tr>
<tr>
<td>$\iota$   <code>\zeta</code></td>
<td>$I$ <code>I</code></td>
<td></td>
</tr>
<tr>
<td>$\kappa$ <code>\kappa</code></td>
<td>$K$ <code>K</code></td>
<td>$\varkappa$ <code>\varkappa</code></td>
</tr>
<tr>
<td>$\lambda$   <code>\lambda</code></td>
<td>$\Lambda$ <code>\Lambda</code></td>
<td></td>
</tr>
<tr>
<td>$\mu$   <code>\mu</code></td>
<td>$M$ <code>M</code></td>
<td></td>
</tr>
<tr>
<td>$\nu$   <code>\nu</code></td>
<td>$N$ <code>N</code></td>
<td></td>
</tr>
<tr>
<td>$\xi$   <code>\xi</code></td>
<td>$Xi$ <code>\Xi</code></td>
<td></td>
</tr>
<tr>
<td>$\omicron$ <code>\omicron</code></td>
<td>$O$ <code>O</code></td>
<td></td>
</tr>
<tr>
<td>$\pi$ <code>\pi</code></td>
<td>$\Pi$ <code>\Pi</code></td>
<td>$\varpi$ <code>\varpi</code></td>
</tr>
<tr>
<td>$\rho$ <code>\rho</code></td>
<td>$P$ <code>P</code></td>
<td>$\varrho$ <code>\varrho</code></td>
</tr>
<tr>
<td>$\sigma$ <code>\sigma</code></td>
<td>$\Sigma$ <code>\Sigma</code></td>
<td>$\varsigma$ <code>\varsigma</code></td>
</tr>
<tr>
<td>$\tau$   <code>\tau</code></td>
<td>$T$ <code>T</code></td>
<td></td>
</tr>
<tr>
<td>$\upsilon$ <code>\upsilon</code></td>
<td>$\Upsilon$ <code>\Upsilon</code></td>
<td></td>
</tr>
<tr>
<td>$\phi$ <code>\phi</code></td>
<td>$\Phi$ <code>\Phi</code></td>
<td>$\varphi$ <code>\varphi</code></td>
</tr>
<tr>
<td>$\chi$   <code>\chi</code></td>
<td>$X$ <code>X</code></td>
<td></td>
</tr>
<tr>
<td>$\psi$ <code>\psi</code></td>
<td>$\Psi$ <code>\Psi</code></td>
<td></td>
</tr>
<tr>
<td>$\omega$   <code>\omega</code></td>
<td>$\Omega$ <code>\Omega</code></td>
</tr>
</tbody>
</table>
<h2 id="Power-&amp;-Index">Power &amp; Index<a class="anchor-link" href="#Power-&amp;-Index">&#182;</a></h2><p>You can add power using the carrot <code>^</code> symbol. If you have more than one character you have to enclose them in a curly brackets.</p>
<p>$$f(x) = x^2 - x^{1 \over \pi}$$</p>
<p>For index you can use the underscore symbol:</p>
$$f(X,n) = X_n + X_{n-1}$$<p><strong>Code:</strong></p>

<pre><code>markdown
$$f(x) = x^2 - x^{1 \over \pi}$$
$$f(X,n) = X_n + X_{n-1}$$</code></pre>
<h2 id="Roots-&amp;-Log">Roots &amp; Log<a class="anchor-link" href="#Roots-&amp;-Log">&#182;</a></h2><p>You can express a square root in LaTeX using the <code>\sqrt</code> and to change the level of the root you can use <code>\sqrt[n]</code> where <code>n</code> is the level of the root.</p>
$$f(x) = \sqrt[3]{2x} + \sqrt{x-2}$$<p>To represent a log use <code>\log[base]</code> where <code>base</code> is the base of the logarithmic term.</p>
$$\log[x] x = 1$$<p><strong>Code:</strong></p>

<pre><code>markdown
$$f(x) = \sqrt[3]{2x} + \sqrt{x-2}$$</code></pre>
<h2 id="Sums-&amp;-Products">Sums &amp; Products<a class="anchor-link" href="#Sums-&amp;-Products">&#182;</a></h2><p>You can represent a sum with a sigma using <code>\sum\limits_{a}^{b}</code> where a and b are the lower and higher limits of the sum.</p>
$$\sum\limits_{x=1}^{\infty} {1 \over x} = 2$$<p>Also you can represent a product with <code>\prod\limits_{a}^{a}</code> where a and b are the lower and higher limits.</p>
$$\prod\limits_{i=1}^{n} x_i - 1$$<p><strong>Code:</strong></p>

<pre><code>$$\sum\limits_{x=1}^{\infty} {1 \over x} = 2$$
$$\prod\limits_{i=1}^{n} x_i - 1$$</code></pre>
<h2 id="Statistics">Statistics<a class="anchor-link" href="#Statistics">&#182;</a></h2><p>To represent basic concepts in statistics about sample space <code>S</code>, you can represent a maximum:</p>
$$max(S) = \max\limits_{i: S_i \in S} S_i$$<p>In the same way you can get the minimum:</p>
$$min(S) = \min\limits_{i: S_i \in S} S_i$$<p>To represent a <a href="http://en.wikipedia.org/wiki/Binomial_coefficient">binomial coefficient</a> with n choose k, use the following:</p>
$$\frac{n!}{k!(n-k)!} = {n \choose k}$$<p>for :</p>
<p><strong>Code:</strong></p>

<pre><code>$$max(S) = \max\limits_{i: x_i \in \{S\}} x_i$$
$$min (S) = \min\limits_{i: x_i \in \{S\}} x_i$$
$$\frac{n!}{k!(n-k)!} = {n \choose k}$$</code></pre>
<h2 id="Calculus">Calculus<a class="anchor-link" href="#Calculus">&#182;</a></h2><p>Limits are represented using <code>\lim\limits_{x \to a}</code> as <code>x</code> approaches <code>a</code>.</p>
$$\lim\limits_{x \to 0^+} {1 \over 0} = \infty$$<p>For integral equations use <code>\int\limits_{a}^{b}</code> where <code>a</code> and <code>b</code> are the lower and higher limits.</p>
$$\int\limits_a^b 2x \, dx$$<p><strong>Code:</strong></p>

<pre><code>markdown
$$\lim\limits_{x \to 0^+} {1 \over 0} = \inf$$
$$\int\limits_a^b 2x \, dx$$</code></pre>
<h2 id="Function-definition-over-periods">Function definition over periods<a class="anchor-link" href="#Function-definition-over-periods">&#182;</a></h2><p>Defining a function that is calculated differently over a number of period can done using LaTeX. There are a few tricks that we will use to do that:</p>
<ul>
<li>The large curly bracket <code>\left\{ ... \right.</code> Notice it you want to use <code>(</code> or <code>[</code> you don't have to add a back slash(<code>\</code>). You can also place a right side matching bracket by replacing the <code>.</code> after <code>\right</code> like this <code>.right}</code></li>
<li>Array to hold the definitions in place. it has two columns with left alignment. <code>\begin{array}{ll} ... \end{array}</code></li>
<li>Line Breaker <code>\\</code></li>
<li>Text alignment box <code>\mbox{Text}</code></li>
</ul>
<p>$f(x) =\left\{\begin{array}{ll}0  &amp; \mbox{if } x = 0 \\{1 \over x} &amp; \mbox{if } x \neq 0\end{array}\right.$</p>
<p><strong>Code:</strong></p>

<pre><code>$f(x) =
\left\{
    \begin{array}{ll}
        0  &amp; \mbox{if } x = 0 \\
        {1 \over x} &amp; \mbox{if } x \neq 0
    \end{array}
\right.$</code></pre>
<p><strong>Note:</strong> If you are planning to show your notebook in NBViewer write your latex code in one line. For example you can write the code above like this:</p>

<pre><code>$f(x) =\left\{\begin{array}{ll}0  &amp; \mbox{if } x = 0 \\{1 \over x} &amp; \mbox{if } x \neq 0\end{array}\right.$</code></pre>
<h1 id="Quick-Quiz-(Normal-Distribution)">Quick Quiz (Normal Distribution)<a class="anchor-link" href="#Quick-Quiz-(Normal-Distribution)">&#182;</a></h1><p>Try to replicate the <a href="http://en.wikipedia.org/wiki/Normal_distribution">Normal Distribution</a> formula using LaTeX. If you solve it, leave the LaTeX code in the comments below. $Don't\ cheat$.</p>
$$P(x,\sigma,\mu) = \frac{1}{{\sigma \sqrt {2\pi } }}e^{{-(x - \mu)^2 } / {2\sigma ^2}}$$<p>Tips to help with the quiz:</p>
<ul>
<li>$\mu$ is <code>\mu</code></li>
<li>$\sigma$ is <code>\sigma</code></li>
<li>$e$ is <code>e</code></li>
</ul>

</div>
</div>
</div>
 


    </div>
  </div>

  </div>


  
    <footer class="footer hidden-print">
      <div class="container">
        <div class="col-md-4">
          <p>
            This website does not host notebooks, it only renders notebooks
            available on other websites.
          </p>
        </div>

        <div class="col-md-4">
          <p>
            Delivered by <a href="http://www.fastly.com/">Fastly</a>,
            Rendered by <a href="https://developer.rackspace.com/?nbviewer=awesome">Rackspace</a>
          </p>
          <p>
            nbviewer GitHub <a href="https://github.com/jupyter/nbviewer">repository</a>.
          </p>
        </div>

        <div class="col-md-4">
          
  
            
              <p>
                nbviewer version:
                <a href="https://github.com/jupyter/nbviewer/commit/5ac2643d687f4e78c5b8a4d50ead8255b2c65bb1">
                  5ac2643
                </a>
              </p>
            
          
  
  <p>
    nbconvert version: <a href="https://github.com/jupyter/nbconvert/releases/tag/5.2.1">
      5.2.1
    </a>
  </p>
  

          
  
  
  <p>
    Rendered
    <span class='date' data-date='Fri, 28 Jul 2017 09:33:03 UTC' title='Fri, 28 Jul 2017 09:33:03 UTC'>(Fri, 28 Jul 2017 09:33:03 UTC)</span>
  </p>
  

        </div>
      </div>
    </footer>
  

  <script src="https://unpkg.com/jupyter-js-widgets@2.0.*/dist/embed.js"></script>
  <script src="/static/components/bootstrap/js/bootstrap.min.js?v=5869c96cc8f19086aee625d670d741f9"></script>
  <script src="/static/components/headroom.js/dist/headroom.min.js?v=b0a311ea668f8e768ea375f4a7abb81c"></script>
  <script src="/static/components/headroom.js/dist/jQuery.headroom.min.js?v=f3a1bae118315d0c234afc74dc6aab71"></script>

  
  
  <script>
    $(function(){ $("#menubar").headroom({
      tolerance: 5,
      offset: 205,
      classes: {
        initial: "animated",
        pinned: "slideInDown",
        unpinned: "slideOutUp"
      }
    })});
  </script>


  
  <script>
    (function(i,s,o,g,r,a,m){i['GoogleAnalyticsObject']=r;i[r]=i[r]||function(){
      (i[r].q=i[r].q||[]).push(arguments)},i[r].l=1*new Date();a=s.createElement(o),
      m=s.getElementsByTagName(o)[0];a.async=1;a.src=g;m.parentNode.insertBefore(a,m)
    })(window,document,'script','https://www.google-analytics.com/analytics.js','ga');
    ga('create', 'UA-52617120-5', 'auto');
    ga('send', 'pageview');
  </script>
  
  <script>
    require({
        paths: {
          moment: "/static/components/moment/min/moment.min.js?v=89f87298ad94aa1e6b92f42eb66da043"
        }
      }, ["moment"], function(moment){
      var date = $("footer .date"),
        m = moment(new Date(date.data('date'))),
        update = function(){ date.text(m.fromNow()); };
      setInterval(update, 61*1000);
      update();
      var w = $(window).scroll(function(event){
        $("body").toggleClass("scrolled", w.scrollTop() > 0);
      });
    });
  </script>
  <!--NEW RELIC Stop Perf Measurement-->
  
  <!--NEW RELIC End-->
</body>
</html>